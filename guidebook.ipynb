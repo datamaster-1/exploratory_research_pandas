{
  "nbformat": 4,
  "nbformat_minor": 0,
  "metadata": {
    "colab": {
      "name": " guidebook.ipynb",
      "provenance": [],
      "collapsed_sections": [
        "sff5UxhnlY34",
        "GaB8kmUKuiDR",
        "2-x7PV2pyKQj",
        "X2U4FQpT1K3E",
        "dQZ5HYItNyvZ",
        "ecYuTJqzxm09",
        "vxMWHx3bOa4N",
        "qsl4JO_9cGTS",
        "sL6QLb-FrZPm",
        "_ghDViaU8Co1",
        "M4LHs-Cn8JJF",
        "WroC4QPXOJrw",
        "GtMrVi5k6g_X",
        "dLIy1msJVlGP",
        "kLFdSzELJIhr",
        "Mp5jjMOIlFZh",
        "AFKVjbsQbhX9",
        "KjiDNmrbJhBt",
        "Mde1truHh5OX",
        "PyCNRfRviMuq",
        "nr9xaGF9iWKE"
      ]
    },
    "kernelspec": {
      "name": "python3",
      "display_name": "Python 3"
    }
  },
  "cells": [
    {
      "cell_type": "markdown",
      "metadata": {
        "id": "fIcH32UbhiC7"
      },
      "source": [
        "# Exploratory research"
      ]
    },
    {
      "cell_type": "markdown",
      "metadata": {
        "id": "sff5UxhnlY34"
      },
      "source": [
        "# How work with pandas?\n",
        "\n"
      ]
    },
    {
      "cell_type": "markdown",
      "metadata": {
        "id": "tpqMo7zDllpl"
      },
      "source": [
        "Where to find datasets?  \n",
        "\n",
        "\n",
        "*   Google Data Search\n",
        "*   World Bank Open Data\n",
        "*   kaggle\n",
        "*   seaborn\n"
      ]
    },
    {
      "cell_type": "markdown",
      "metadata": {
        "id": "GaB8kmUKuiDR"
      },
      "source": [
        "## First steps"
      ]
    },
    {
      "cell_type": "code",
      "metadata": {
        "id": "QWj-EFYKmOUK"
      },
      "source": [
        "!pip install -upgrade pandas\n",
        "#is very useful always when you star a pandas proyect's, \n",
        "#upgrade pandas because is a library that always is updating "
      ],
      "execution_count": null,
      "outputs": []
    },
    {
      "cell_type": "markdown",
      "metadata": {
        "id": "TN3x81zTmx08"
      },
      "source": [
        " Connect your notebook with your drive"
      ]
    },
    {
      "cell_type": "code",
      "metadata": {
        "id": "mj5E_QbA56r4"
      },
      "source": [
        "from google.colab import drive\n",
        "drive.mount('/content/drive/')"
      ],
      "execution_count": null,
      "outputs": []
    },
    {
      "cell_type": "markdown",
      "metadata": {
        "id": "6PGM9MjjfaUI"
      },
      "source": [
        "upload files from your computer"
      ]
    },
    {
      "cell_type": "code",
      "metadata": {
        "id": "MH6ubytXfQ6I"
      },
      "source": [
        "import io\n",
        "from google.colab import files\n",
        "uploaded = files.upload()\n",
        "people = pd.read_csv(io.StringIO(uploaded['people.csv'].decode('utf-8')), sep = ',' )\n",
        "people = pd.read_csv('people.csv', sep = ',' )\n",
        "people.head(3)"
      ],
      "execution_count": null,
      "outputs": []
    },
    {
      "cell_type": "markdown",
      "metadata": {
        "id": "1wYEkyErnW3I"
      },
      "source": [
        "Directories navigation on your drive "
      ]
    },
    {
      "cell_type": "code",
      "metadata": {
        "id": "CW5VF5r6nUkS"
      },
      "source": [
        "%cd '/content/drive/My Drive/Colab Notebooks/db' \n",
        "#this route will change according with the configuration on your drive\n",
        "!ls \n",
        "#show all content in your route"
      ],
      "execution_count": null,
      "outputs": []
    },
    {
      "cell_type": "markdown",
      "metadata": {
        "id": "1PKCH4GjvCa1"
      },
      "source": [
        "Import Pandas"
      ]
    },
    {
      "cell_type": "code",
      "metadata": {
        "id": "PiJHW3eEuXxu"
      },
      "source": [
        "import pandas as pd \n",
        "# is a convencion allways import pandas as pd\n",
        "pd.__version__\n",
        "# check pandas version"
      ],
      "execution_count": null,
      "outputs": []
    },
    {
      "cell_type": "markdown",
      "metadata": {
        "id": "Vkxm2hRGwfFy"
      },
      "source": [
        "Create pandas dataframe"
      ]
    },
    {
      "cell_type": "code",
      "metadata": {
        "id": "2lpABR68wT3b"
      },
      "source": [
        "df_name = pd.read_csv('name.csv')\n",
        "#you use the method read from pandas to read_csv a dataset and \n",
        "#create a dataframe to work with it\n",
        "# more information in:\n",
        "https://pandas.pydata.org/docs/getting_started/intro_tutorials/02_read_write.html?highlight=read"
      ],
      "execution_count": null,
      "outputs": []
    },
    {
      "cell_type": "code",
      "metadata": {
        "id": "2Ls1kWjswWqd"
      },
      "source": [
        "df_copy = df_name.copy()"
      ],
      "execution_count": null,
      "outputs": []
    },
    {
      "cell_type": "markdown",
      "metadata": {
        "id": "2-x7PV2pyKQj"
      },
      "source": [
        "## How start analyzing data?"
      ]
    },
    {
      "cell_type": "markdown",
      "metadata": {
        "id": "FN0mOIhxy3Cw"
      },
      "source": [
        "The first thing tha you have to do when you want to start analyzing data is undertand the dataset. Some useful question to help you are: \n",
        "How is build your data?, What are the size?,  How many columns and rows have?, What is the type of the elementes in your dataset?, There are null elemnts? "
      ]
    },
    {
      "cell_type": "markdown",
      "metadata": {
        "id": "X2U4FQpT1K3E"
      },
      "source": [
        "### Visualizing data"
      ]
    },
    {
      "cell_type": "code",
      "metadata": {
        "id": "DgsynokKyEU9"
      },
      "source": [
        "df_name.head()\n",
        "#displays  the first 5 data, 5 is the default value\n",
        "df_name.head(10)\n",
        "#displays  the first 10 data\n",
        "df_name.tail(10)\n",
        "#displays  the last 10 data\n",
        "df_name.sample(10)\n",
        "#displays 10 random data"
      ],
      "execution_count": null,
      "outputs": []
    },
    {
      "cell_type": "markdown",
      "metadata": {
        "id": "hw-smG7-4LiK"
      },
      "source": [
        "Dataframe size"
      ]
    },
    {
      "cell_type": "code",
      "metadata": {
        "id": "gaIS2NfN2rj8"
      },
      "source": [
        "df_name.shape\n",
        "#displays the number of rows and columns\n",
        "df_name.size\n",
        "#displays the numbres of data in the dataframe = rows * columns"
      ],
      "execution_count": null,
      "outputs": []
    },
    {
      "cell_type": "markdown",
      "metadata": {
        "id": "ZzCD-of_KUS6"
      },
      "source": [
        "Dataframe useful information"
      ]
    },
    {
      "cell_type": "code",
      "metadata": {
        "id": "STWc9GMb450j"
      },
      "source": [
        "df_name.index\n",
        "#displays the dataframe's index\n",
        "df_name.columns\n",
        "#displays the dataframe's columns\n",
        "df_name.describe()\n",
        "#generate descriptive statistics\n",
        "#describe some information: count, mean, std, min, max 25th, 50th, and 75th percentiles\n",
        "#by default only apply with numeric data\n",
        "df_name.describe(include='all')\n",
        "#describe some information of all columns\n",
        "#columns that not have numeric data, display: count, unique, top, freq \n",
        "#and other statistics information  is display as a null \n",
        "df_name.column_name.describe()\n",
        "#displays only select column\n",
        "#more information in:\n",
        "r'https://pandas.pydata.org/docs/reference/api/pandas.DataFrame.describe.html?highlight=describe#pandas.DataFrame.describe'"
      ],
      "execution_count": null,
      "outputs": []
    },
    {
      "cell_type": "code",
      "metadata": {
        "id": "Er_xjmfHCPwn"
      },
      "source": [
        "df_name.info()\n",
        "# displays some infromation about dataframe: \n",
        "#the index dtype and column dtypes, non-null values and memory usage\n",
        "df_name.dtypes\n",
        "# displays type of data in the columns\n",
        "df_name.convert_dtypes()\n",
        "# convert types in the correct or more specific type\n",
        "df_name.nunique()\n",
        "# displays the count of unique values in each column\n"
      ],
      "execution_count": null,
      "outputs": []
    },
    {
      "cell_type": "code",
      "metadata": {
        "id": "LYsbtniIiA-8"
      },
      "source": [
        "#this method don't apply directly in data frames only en series\n",
        "df_name['column1'].unique()\n",
        "# displays the unique elements in selected column, \n",
        "#usually use in categorical type columns\n",
        "df_name['column1'].value_counts()\n",
        "#dispalys the count of elements in selected column, \n",
        "#usually use in cateforical type columns"
      ],
      "execution_count": null,
      "outputs": []
    },
    {
      "cell_type": "code",
      "metadata": {
        "id": "aXAOcvEXaIqG"
      },
      "source": [
        "df_name.values()\n",
        "df_name['column1'].values()\n",
        "df_name.value_counts()\n",
        "df_name['column1'].value_counts()"
      ],
      "execution_count": null,
      "outputs": []
    },
    {
      "cell_type": "markdown",
      "metadata": {
        "id": "dQZ5HYItNyvZ"
      },
      "source": [
        "### Type categorical"
      ]
    },
    {
      "cell_type": "markdown",
      "metadata": {
        "id": "b6Ud1K3ON3NJ"
      },
      "source": [
        "usually when a column only have two values could be a categorical variable and is useful change the type of this columns to categorical"
      ]
    },
    {
      "cell_type": "code",
      "metadata": {
        "id": "ZrKzdJsgeaVi"
      },
      "source": [
        "pd.Categorical(data)"
      ],
      "execution_count": null,
      "outputs": []
    },
    {
      "cell_type": "code",
      "metadata": {
        "id": "QLmuPc8OO8Z7"
      },
      "source": [
        "df_name.astype({'column1':'type'})\n",
        "df_name[['column1','column2']].astype('category')\n",
        "# if you want that types change in data frame, you must  re assign  columns\n",
        "df_name[['column1','column2']] = df_name[['column1','column2']].astype('category')\n",
        "#my recommendation is that never make modification in the original dataset, allways create copies\n",
        "df_copy = df_name.copy()"
      ],
      "execution_count": null,
      "outputs": []
    },
    {
      "cell_type": "code",
      "metadata": {
        "id": "qYn16K0NkuC-"
      },
      "source": [
        "#create a dummi \n",
        "#dummi is a data set that show where thera are a data depending of the index\n",
        "# dummis are veri useful in categorical data because you can change original \n",
        "#values in 0 and 1 \n",
        "pd.get_dummies(df_name)\n",
        "#you could use this method with a compliti dataframe, one or ones columns and series\n",
        "#sometimes is not useful use with compliti dataframe and culd be slow\n",
        "pd.get_dummies(df_name['column1'])\n",
        "#more information in:\n",
        "r'https://pandas.pydata.org/docs/reference/api/pandas.get_dummies.html?highlight=get_dummies#pandas.get_dummies'"
      ],
      "execution_count": null,
      "outputs": []
    },
    {
      "cell_type": "markdown",
      "metadata": {
        "id": "ecYuTJqzxm09"
      },
      "source": [
        "### Type time"
      ]
    },
    {
      "cell_type": "code",
      "metadata": {
        "id": "Dqq2Hbktxqhr"
      },
      "source": [
        "#data-time is very useful and have some specific methods that, can help you to analyze data\n",
        "pd.to_datatime(df_name['column1'])\n",
        "# usually you need more arguments that help you to transform data in data-time\n",
        "pd.to_datatime(df_name['column1'],errors='coerce',format='%m/%d/%Y %H:%M:%S %p')\n",
        "#more information in:\n",
        "r'https://pandas.pydata.org/docs/reference/api/pandas.to_datetime.html?highlight=to_datetime#pandas.to_datetime'"
      ],
      "execution_count": null,
      "outputs": []
    },
    {
      "cell_type": "markdown",
      "metadata": {
        "id": "vxMWHx3bOa4N"
      },
      "source": [
        "### Data selection "
      ]
    },
    {
      "cell_type": "code",
      "metadata": {
        "id": "JtXhol62O9GS"
      },
      "source": [
        "df_name[['column1','column2']]\n",
        "#displays all  rows in selected columns"
      ],
      "execution_count": null,
      "outputs": []
    },
    {
      "cell_type": "code",
      "metadata": {
        "id": "kZn0YWsFQrF6"
      },
      "source": [
        "#key = column\n",
        "df_name({'key'})\n",
        "df_name({'key':'value'})"
      ],
      "execution_count": null,
      "outputs": []
    },
    {
      "cell_type": "code",
      "metadata": {
        "id": "X4V3uhmBDyFn"
      },
      "source": [
        "df_name.loc['index1']\n",
        "#displays all elements in index1 \n",
        "df_name.loc[['index1','index2']]\n",
        "#displays all elements in index1 and index2\n",
        "df_name.loc['index1','column1']\n",
        "#displays elements in index1 and column1\n",
        "df_name.loc['index1':'index3','column1']\n",
        "#displays elements between index1 and index3\n",
        "df_name.loc[[False, False, True]]\n",
        "#displays elments where index = True\n",
        "df_name.loc[df_name['column1'] >6 ]\n",
        "#display items where the value in column 1 is greater than six\n",
        "df_name.loc[df_name['column1'] > 6, ['column2']]\n",
        "#display items where the value in column 1 is greater than six but only show column2\n",
        "df_name.loc[lambda df_name: df_name['column1'] == 8]\n",
        "# display elements where value of column1 is equal to 8\n",
        "df_name.loc['index1',['column1','column2']]\n",
        "df_name.loc[['index1','index2'],'column1']\n",
        "#loc is useful to set elements, you would find more information \n",
        "# in the section set values\n",
        "# more information in:\n",
        "r'https://pandas.pydata.org/docs/reference/api/pandas.DataFrame.loc.html?highlight=loc#pandas.DataFrame.loc'"
      ],
      "execution_count": null,
      "outputs": []
    },
    {
      "cell_type": "code",
      "metadata": {
        "id": "gEoTXMgntbxY"
      },
      "source": [
        "#loc use an element's position and is very useful,\n",
        "#bot remember that we start count in 0 and the last position is not inclusive\n",
        "df_name.iloc[0]\n",
        "#displays elements in idex 0, including index\n",
        "df_name.iloc[[0]]\n",
        "#displays elements in idex 0, not including index\n",
        "df_name.iloc[[0, 1]]\n",
        "#displays elements in idex 0 and index 1, including index\n",
        "df_name.iloc[:3]\n",
        "#displays 3 elements as slices\n",
        "df_name.iloc[[True, False, True]]\n",
        "#diplays elements where index = True\n",
        "df_name.iloc[lambda x: x.index % 2 == 0]\n",
        "#displays elements where indes = even number\n",
        "df_name.iloc[0, 1]\n",
        "# displays element in index 0 and column 1\n",
        "df_name.iloc[[0, 2], [1, 3]]\n",
        "#displays elements in (index 0 and column 2) and (index 1 and column 3)\n",
        "df_name.iloc[1:3, 0:3]\n",
        "#desplays all elements between index 1 to 3 and between columns 0 to 3\n",
        "df_name.iloc[:, [True, False, True, False]]\n",
        "#displays all elements where columns are True\n",
        "df_name.iloc[:, lambda df_name: [0, 2]]\n",
        "#displays all elements where columns have posicion 0 or 2\n",
        "#more infroamtion in:\n",
        "r'https://pandas.pydata.org/docs/reference/api/pandas.DataFrame.iloc.html#pandas.DataFrame.iloc'"
      ],
      "execution_count": null,
      "outputs": []
    },
    {
      "cell_type": "code",
      "metadata": {
        "id": "LK6ickb7z_oO"
      },
      "source": [
        "#similar to loc bot use at if you only need to get  a single value \n",
        "#in a DataFrame \n",
        "df.at[index1, 'column1']\n",
        "df.loc[index1].at['column1']\n",
        "#more information in:\n",
        "r'https://pandas.pydata.org/docs/reference/api/pandas.DataFrame.at.html#pandas.DataFrame.at'"
      ],
      "execution_count": null,
      "outputs": []
    },
    {
      "cell_type": "code",
      "metadata": {
        "id": "TZX7UEO11S5c"
      },
      "source": [
        "#similar to iloc bot use at if you only need to get  a single value \n",
        "#in a DataFrame\n",
        " df.iat[1, 2]\n",
        " df.loc[0].iat[1]\n",
        " #more information in:\n",
        " r'https://pandas.pydata.org/docs/reference/api/pandas.DataFrame.iat.html#pandas.DataFrame.iat'"
      ],
      "execution_count": null,
      "outputs": []
    },
    {
      "cell_type": "markdown",
      "metadata": {
        "id": "qsl4JO_9cGTS"
      },
      "source": [
        "### MultiIndex"
      ]
    },
    {
      "cell_type": "code",
      "metadata": {
        "id": "KnH5F7bwcED4"
      },
      "source": [
        "df_name.loc[7:9]\n",
        "#displays elementes in index between 7 to 9\n",
        "df_name.loc['index1']\n",
        "#displays all elements in the sub-index of idex one\n",
        "df_name.loc[('index1','index1.1')]\n",
        "#displays all elemnts in sub-index1.1\n",
        "df_name.loc['index1','index1.2']\n",
        "#displays all elemnts in sub-index1.2 but not including index1.2\n",
        "df_name.loc[[('index1','index1.1')]]\n",
        "#displays all elemnts in sub-index1.1 but indluding index1.1 and index1\n",
        "df_name.loc[('index1', 'index1.1'), 'column1']\n",
        "# displays elemnts in index1 , index1.1 and column1\n",
        "df_name.loc[('index1', 'index1.2'):'index3']\n",
        "#displays all elements between index1.2 and index 3"
      ],
      "execution_count": null,
      "outputs": []
    },
    {
      "cell_type": "code",
      "metadata": {
        "id": "B9p_VqpM2tOD"
      },
      "source": [
        "df.xs('index1')\n",
        "#displays all elements in index1 not including index1\n",
        "df.xs(('index1', 'index1.1'))\n",
        "#displays all elements in index1.1 not including index1.1\n",
        "df.xs('index1.1', level=1)\n",
        "#displays all elements in index1.1 not including index1.1 and including index1\n",
        "df.xs(('index1', 'index1.1.1'),\n",
        "      level=[0, 'column1.1.1'])\n",
        "#displays all elements in index1.1.1 not including index1 and indes1.1.1\n",
        " df.xs('column1', axis=1)\n",
        " #displays all elemets and its index in column1\n",
        " #more nfromation in:\n",
        " r'https://pandas.pydata.org/docs/reference/api/pandas.DataFrame.xs.html#pandas.DataFrame.xs'"
      ],
      "execution_count": null,
      "outputs": []
    },
    {
      "cell_type": "code",
      "metadata": {
        "id": "G1aSf6ZgrmC2"
      },
      "source": [
        "df_name.index.get_level_values(0)\n",
        "# values of  first level\n",
        "df_name.index.get_level_values(1)\n",
        "# values of  second level"
      ],
      "execution_count": null,
      "outputs": []
    },
    {
      "cell_type": "markdown",
      "metadata": {
        "id": "z-AoegiEq907"
      },
      "source": [
        "Tools"
      ]
    },
    {
      "cell_type": "code",
      "metadata": {
        "id": "RD3xGnkqAiwP"
      },
      "source": [
        "#change float_format\n",
        "pd.options.display.float_format='{:,.1f}'.format"
      ],
      "execution_count": null,
      "outputs": []
    },
    {
      "cell_type": "code",
      "metadata": {
        "id": "riv69IWlf88Y"
      },
      "source": [
        "#is in \n",
        "df_name.isin([0, 2])\n",
        "# return true in places where value is equal tu 0 or 2\n",
        "df.isin({'column1': [0, 3]})\n",
        "#return true in places where column1,s  values are equal tu 0 or 3\n",
        "#more information in:\n",
        "r'https://pandas.pydata.org/docs/reference/api/pandas.DataFrame.isin.html?highlight=isin#pandas.DataFrame.isin'\n"
      ],
      "execution_count": null,
      "outputs": []
    },
    {
      "cell_type": "markdown",
      "metadata": {
        "id": "sL6QLb-FrZPm"
      },
      "source": [
        "## Dataset modifications"
      ]
    },
    {
      "cell_type": "markdown",
      "metadata": {
        "id": "JQRiYc39r6xE"
      },
      "source": [
        "After analyze your data set, the next step is start with the transformation of the dataset.\n",
        "Usually, we do not need all the dataset to analyse it, in other times the data set have a lot of useless information, for that reason we nee to transform our data set.\n",
        "\n",
        "my recommendation always create a copy of the original dataset to do the changes"
      ]
    },
    {
      "cell_type": "markdown",
      "metadata": {
        "id": "I6BH80nlwzD1"
      },
      "source": [
        "Creation of new columns"
      ]
    },
    {
      "cell_type": "code",
      "metadata": {
        "id": "_7l8U5KQry8Z"
      },
      "source": [
        "df_name['new_column1'] = data\n",
        "df_name[['new_column1','new_column2']] = data"
      ],
      "execution_count": null,
      "outputs": []
    },
    {
      "cell_type": "markdown",
      "metadata": {
        "id": "lQf3x8zg2B2h"
      },
      "source": [
        "Rename\n"
      ]
    },
    {
      "cell_type": "code",
      "metadata": {
        "id": "tvjjzkcB2KHG"
      },
      "source": [
        "df_name.rename(columns={'column1':'new_name1'})\n",
        "df_name.rename(columns={'column1':'new_name1'}, inplace=True)\n",
        "# apply changes in the original dataset "
      ],
      "execution_count": null,
      "outputs": []
    },
    {
      "cell_type": "markdown",
      "metadata": {
        "id": "QAYGoRI86kut"
      },
      "source": [
        "\n",
        "Delete data"
      ]
    },
    {
      "cell_type": "code",
      "metadata": {
        "id": "6Bbrpjep6o90"
      },
      "source": [
        "df_name.drop(['column1', 'column2'], axis=1)\n",
        "df_name.drop(['index1', 'index2'], axis=0)\n",
        "df_name.drop(columns=['column1', 'column2'])\n",
        "df_name.drop(index=['index1', 'index2'])\n",
        "df.drop([0, 1])\n",
        "# drop index 0 and 1\n",
        "# you could combine somo of this\n",
        "df.drop(index='index1', columns='column1')\n",
        "df.drop(index='indes1', level=1)\n",
        "# other useful methods to drop\n",
        "df_name.dropna()\n",
        "# drop all rows that have null element or elements\n",
        "df_name.dropna(axis='columns')\n",
        "# drop all columns that have null element or elements\n",
        "df_name.dropna(how='all')\n",
        "# drop rows or columns bot only if all elements are null by defaul is 'any'\n",
        "df_name.dropna(thresh=2)\n",
        "# drop rows or columns bot only if 2 elements are null by defaul is 'any'\n",
        "df_name.dropna(subset=['name', 'born'])\n",
        "#Define in which columns to look for missing values\n",
        "df_name.dropna(inplace=True)\n",
        "\n",
        "df_name.drop_duplicates()\n",
        "# drop duplicate data\n",
        "#work too similar that dropna\n",
        "# more information in:\n",
        "r'https://pandas.pydata.org/docs/reference/api/pandas.DataFrame.drop_duplicates.html#pandas.DataFrame.drop_duplicates'"
      ],
      "execution_count": null,
      "outputs": []
    },
    {
      "cell_type": "markdown",
      "metadata": {
        "id": "WYmXb6JTZUQD"
      },
      "source": [
        "Delete data with a function"
      ]
    },
    {
      "cell_type": "code",
      "metadata": {
        "id": "jEIzeSfCZfUX"
      },
      "source": [
        "def drop_useless_columns(df, drop_list):\r\n",
        "    for column in drop_list:\r\n",
        "        df.drop([column], axis=1, inplace=True)"
      ],
      "execution_count": null,
      "outputs": []
    },
    {
      "cell_type": "code",
      "metadata": {
        "id": "A1_HTxAaZmLu"
      },
      "source": [
        "drop_list = ['column1', 'column2', 'column3']\r\n",
        "drop_useless_columns(df_sample, drop_list)"
      ],
      "execution_count": null,
      "outputs": []
    },
    {
      "cell_type": "markdown",
      "metadata": {
        "id": "5AaA5oBPhFww"
      },
      "source": [
        "Set values\n"
      ]
    },
    {
      "cell_type": "code",
      "metadata": {
        "id": "vv9SuYPWhPNs"
      },
      "source": [
        "df_name.loc[['index1', 'index2'], ['column1']] = 50\n",
        "# set value 50 in elements in column1 index 1 and 2\n",
        "df_name.loc['index1'] = 10\n",
        "#set value 10 in all elementes in index1\n",
        "df_name.loc[:, 'column1'] = 30\n",
        "#set value 30 in all elements in column1\n",
        "df_name.loc[df_name['column1'] > 35] = 0\n",
        "# set value 0 in all elements in column1 that are greater tham 35"
      ],
      "execution_count": null,
      "outputs": []
    },
    {
      "cell_type": "code",
      "metadata": {
        "id": "1bLkkAfY0mxR"
      },
      "source": [
        "#similar to loc bot use at if you only need to  set a single value \n",
        "#in a DataFrame \n",
        "df_name.at[index1, 'column1'] = 10"
      ],
      "execution_count": null,
      "outputs": []
    },
    {
      "cell_type": "code",
      "metadata": {
        "id": "xLQHRb421i5E"
      },
      "source": [
        "#similar to iloc bot use at if you only need to  set a single value \n",
        "#in a DataFrame \n",
        "df_name.iat[1, 2] = 10"
      ],
      "execution_count": null,
      "outputs": []
    },
    {
      "cell_type": "markdown",
      "metadata": {
        "id": "BKkc2VYM2BIP"
      },
      "source": [
        "Set index"
      ]
    },
    {
      "cell_type": "code",
      "metadata": {
        "id": "qBi-Ff66iByk"
      },
      "source": [
        "df_name.set_index('index1')\n",
        "df_name.set_index(['index1', 'index2'])\n",
        "#Create a MultiIndex using an Index and a column\n",
        "df_name.set_index([pd.Index([1, 2, 3, 4]), 'column1'])\n",
        "# create a index with a column1 in index 1,2,3,4\n",
        "#more infromarion in:\n",
        "r'https://pandas.pydata.org/docs/reference/api/pandas.DataFrame.set_index.html?highlight=set_index#pandas.DataFrame.set_index'"
      ],
      "execution_count": null,
      "outputs": []
    },
    {
      "cell_type": "code",
      "metadata": {
        "id": "8zfMh_IEjgnx"
      },
      "source": [
        "df_name.reset_index()\n",
        "# reser all index \n",
        "#multipleindex\n",
        "df_name.reset_index(level='index1.1')\n",
        "# reser all index1.1\n",
        "#more information in:\n",
        "r'https://pandas.pydata.org/docs/reference/api/pandas.DataFrame.reset_index.html#pandas.DataFrame.reset_index'"
      ],
      "execution_count": null,
      "outputs": []
    },
    {
      "cell_type": "code",
      "metadata": {
        "id": "vNGZ8upskfdg"
      },
      "source": [
        "#Conform DataFrame to new index with optional filling logic\n",
        "df_name.reindex(new_index)\n",
        "df.reindex(new_index, fill_value=0)\n",
        "# nan as 0\n",
        "df.reindex(new_index, fill_value='missing')\n",
        "# nan as missing\n",
        "df.reindex(columns=['column1', 'column2'])\n",
        "df.reindex(['column1', 'column2'], axis=\"columns\")\n",
        "#more infromation in:\n",
        "r'https://pandas.pydata.org/docs/reference/api/pandas.DataFrame.reindex.html#pandas.DataFrame.reindex'"
      ],
      "execution_count": null,
      "outputs": []
    },
    {
      "cell_type": "code",
      "metadata": {
        "id": "j8EESNkHo01J"
      },
      "source": [
        "df_name.sort_idex()\n",
        "df_name.sort_values(ascending=False)"
      ],
      "execution_count": null,
      "outputs": []
    },
    {
      "cell_type": "code",
      "metadata": {
        "id": "Pc3uiho-r4dM"
      },
      "source": [
        "# apply funcion on specific ides level\n",
        "df_name.sum(level='idex1')"
      ],
      "execution_count": null,
      "outputs": []
    },
    {
      "cell_type": "markdown",
      "metadata": {
        "id": "NxzA02h4Rs5d"
      },
      "source": [
        "transform categorical data to numeric data "
      ]
    },
    {
      "cell_type": "code",
      "metadata": {
        "id": "BI574ha3R54R"
      },
      "source": [
        "categorical = df_name[df_name.columns[consolidado.dtypes==object].tolist()]\n",
        "mask = pd.get_dummies(categorical)\n",
        "columns = categorical.columns.tolist()\n",
        "df_name.drop(columns, axis=1, inplace=True)\n",
        "df = pd.concat([consolidado, mask],axis=1)"
      ],
      "execution_count": null,
      "outputs": []
    },
    {
      "cell_type": "markdown",
      "metadata": {
        "id": "ERS6jc3AR4tD"
      },
      "source": [
        ""
      ]
    },
    {
      "cell_type": "markdown",
      "metadata": {
        "id": "_ghDViaU8Co1"
      },
      "source": [
        "## Operate with data drame"
      ]
    },
    {
      "cell_type": "markdown",
      "metadata": {
        "id": "-x-T4wnmA1_n"
      },
      "source": [
        "If you have a data frame that onli have numeric values you can apply the follow methots"
      ]
    },
    {
      "cell_type": "code",
      "metadata": {
        "id": "Khrj0BzICVCF"
      },
      "source": [
        "#add\n",
        "#Equivalent to dataframe + other\n",
        "df_name.add(1)"
      ],
      "execution_count": null,
      "outputs": []
    },
    {
      "cell_type": "code",
      "metadata": {
        "id": "Qp5SOWNPIXms"
      },
      "source": [
        "#sub\n",
        "#Equivalent to dataframe - other\n",
        "df.sub([1, 2], axis='columns')\n",
        "#substract   1 in all values in columns1 and substract 2 in all values in columns2\n",
        "df.sub(pd.Series([1, 2, 3], index=['index1', 'index2', 'index3']),\n",
        "       axis='index')\n",
        "#subtract 1 in all values in idex1, 2 in index2 and 3 in index3"
      ],
      "execution_count": null,
      "outputs": []
    },
    {
      "cell_type": "code",
      "metadata": {
        "id": "iit_jwRkKr5y"
      },
      "source": [
        "#mul\n",
        "#Equivalent to dataframe * other\n",
        "df_name.mul(other)\n",
        "df_name.mul(other, fill_value=0)\n",
        "#elements nan as 0"
      ],
      "execution_count": null,
      "outputs": []
    },
    {
      "cell_type": "code",
      "metadata": {
        "id": "EEN5BBUWMAqv"
      },
      "source": [
        "#div\n",
        "#Equivalent to dataframe / other\n",
        "df_name.div(10)\n",
        "#truediv\n",
        "df_name.rdiv(10)\n",
        "# if you 1/0 displays inf\n",
        "#floodiv\n",
        "#Equivalent to dataframe // other"
      ],
      "execution_count": null,
      "outputs": []
    },
    {
      "cell_type": "code",
      "metadata": {
        "id": "xlfnlPDYNX8e"
      },
      "source": [
        "#mod\n",
        "#Equivalent to dataframe % other\n",
        "#pow\n",
        "#Equivalent to dataframe ** other\n",
        "#more information in:\n",
        "r'https://pandas.pydata.org/docs/reference/api/pandas.DataFrame.sub.html?highlight=sub#pandas.DataFrame.sub'"
      ],
      "execution_count": null,
      "outputs": []
    },
    {
      "cell_type": "code",
      "metadata": {
        "id": "R9CXl3d6NryI"
      },
      "source": [
        "#Internal product\n",
        "df_name.dot(other)\n",
        "df_name @ other"
      ],
      "execution_count": null,
      "outputs": []
    },
    {
      "cell_type": "markdown",
      "metadata": {
        "id": "aLVRsVgpV819"
      },
      "source": [
        "Apply funcions"
      ]
    },
    {
      "cell_type": "code",
      "metadata": {
        "id": "XFLnto2JWA_z"
      },
      "source": [
        "#Objects passed to the function are Series objects whose index is either \n",
        "#the DataFrame’s index (axis=0) or the DataFrame’s columns (axis=1)\n",
        "df_name.apply(np.sqrt)\n",
        "df_name.apply(np.sum, axis=0)\n",
        "df_name.apply(lambda x: [1, 2], axis=1)\n",
        "df_name.apply(lambda x: pd.Series([1, 2], index=['column1', 'column2']), axis=1)\n",
        "df_name.apply(lambda x: [1, 2], axis=1, result_type='broadcast')\n",
        "df_name.apply(name_fun, argument1= 0, argument2=5)\n",
        "#arguments could be by position or specific\n",
        "df.applymap(lambda x: len(str(x)))\n",
        "#Apply a function to a Dataframe elementwise"
      ],
      "execution_count": null,
      "outputs": []
    },
    {
      "cell_type": "code",
      "metadata": {
        "id": "RBEXW59kfaTA"
      },
      "source": [
        "df = df.apply(lambda x: funcion(x) if(np.all(pd.notnull(x[0]))) else x, axis = 1)\r\n",
        "#apply a funcion over a dataframe if the values is not null"
      ],
      "execution_count": null,
      "outputs": []
    },
    {
      "cell_type": "markdown",
      "metadata": {
        "id": "M4LHs-Cn8JJF"
      },
      "source": [
        "### Text type"
      ]
    },
    {
      "cell_type": "code",
      "metadata": {
        "id": "_RvM1fof8Qd0"
      },
      "source": [
        "df_name['column1'].str.lower()\n",
        "# conevert all strings in column1 to lower case \n",
        "df_name['column1'].str.upper()\n",
        "#conevert all strings in column1 to upper case \n",
        "df_name['column1'].str.capitalize()\n",
        "#conevert all strings in column1 to capitalize\n",
        "df_name['column1'].str.len()\n",
        "#diplays len of all string in column1\n",
        "df_name['column1'].str.split(' ')\n",
        "# divide all strings with a caracter, in this case with a empty space \n",
        "df_name['column1'].str[:5]\n",
        "# select the first 5 caracters of a string\n",
        "df_name['column1'].str[-5:]\n",
        "# select the last 5 caracters of a string\n",
        "df_name['column1'].str.replace('strng1','new_string1')\n",
        "#remplace strings\n",
        "df_name['column1'].str.findall('ara')\n",
        "#find  in all string the secuence of ccaracter 'ara'\n",
        "df_name['column1']str.startswith('b')\n",
        "df_name['column1']str.endswith('a')\n",
        "df_name['column1'].str.contains('or')\n",
        "#displays true in all strings that contain 'or'\n",
        "df_name['column1'].str.count('a')\n",
        "#count all elements a in all strings\n",
        "df_name['column1'].str.extract('([0-9]+)', expand=False)\n",
        "df_name['column1'].str.extractall(r\"[ab](\\d)\")\n",
        "# extract all alfanumeric alements \n",
        "df_name['column1'].str.replace('@[^\\s]+','')"
      ],
      "execution_count": null,
      "outputs": []
    },
    {
      "cell_type": "code",
      "metadata": {
        "id": "NyPR2uucCuDA"
      },
      "source": [
        "df_name['column1'].str.zfill(3)\n",
        "# add 0 equal to 3 in all strings\n",
        "df_name['column1'].str.wrap(12)\n",
        "#Wrap long strings to be formatted in paragraphs, max lenth 12\n",
        "df_name['column1'].str.title\n",
        "#convert a string to title\n",
        "df_name['column1'].str.swapcase\n",
        "#convert a string to swapcase\n",
        "df_name['column1'].str.strip()\n",
        "#delete empty spaces\n",
        "df_name['column1'].str.strip('\\n\\f.!?')\n",
        "#delete empty spaces and salected caracters\n",
        "df_name['column1'].str.split()\n",
        "#transform a string to list \n",
        "df_name['column1'].str.split(pat = \"/\")\n",
        "#transform a string to list where /\n",
        "df_name['column1'].str.repeat(repeats=2)\n",
        "df_name['column1'].str.isupper()\n",
        "df_name['column1'].str.istitle()\n",
        "df_name['column1'].str.isspace()\n",
        "df_name['column1'].str.isnumeric()\n",
        "df_name['column1'].str.islower()\n",
        "df_name['column1'].str.isdigit()\n",
        "df_name['column1'].str.isdecimal()\n",
        "df_name['column1'].str.isalpha()\n",
        "df_name['column1'].str.isnum()\n",
        "\n",
        "df_name['column1'].str.index()\n",
        "#Return lowest indexes in each strings\n",
        "df_name['column1'].str.get(1)\n",
        "#get first elemnt to a string\n",
        "#more information in\n",
        "r'https://pandas.pydata.org/docs/search.html?q=str'"
      ],
      "execution_count": null,
      "outputs": []
    },
    {
      "cell_type": "markdown",
      "metadata": {
        "id": "WroC4QPXOJrw"
      },
      "source": [
        "### Dataframes union\n"
      ]
    },
    {
      "cell_type": "code",
      "metadata": {
        "id": "DBdidZ4SQajJ"
      },
      "source": [
        "pd.concat([serie1,serie2])\n",
        "pd.concat([s1, s2], ignore_index=True)\n",
        "pd.concat([s1, s2], keys=['s1', 's2'])\n",
        "pd.concat([s1, s2], keys=['s1', 's2'],\n",
        "          names=['Series name', 'Row ID'])\n",
        "# dataframe\n",
        "pd.concat([df1, df2])\n",
        "pd.concat([df1, df3], sort=False)\n",
        "#more information in:\n",
        "r'https://pandas.pydata.org/docs/reference/api/pandas.concat.html?highlight=concat#pandas.concat'"
      ],
      "execution_count": null,
      "outputs": []
    },
    {
      "cell_type": "code",
      "metadata": {
        "id": "KkNYGD7wSSP3"
      },
      "source": [
        "df_name.append(df_name2)\n",
        "df_name.append(df_name2, ignore_index=True)\n",
        "#more information in:\n",
        "r'https://pandas.pydata.org/docs/reference/api/pandas.DataFrame.append.html?highlight=append#pandas.DataFrame.append'"
      ],
      "execution_count": null,
      "outputs": []
    },
    {
      "cell_type": "code",
      "metadata": {
        "id": "BYQGD0SNTpnX"
      },
      "source": [
        "# merge is a kind of concact bot olny if two dataframes have a comun column\n",
        "pd.merge(df_left,df_raight, how='inner', on='column1')\n",
        "pd.merge(df_left,df_raight, how='inner', left_on='column1',rigth_on='column3')\n",
        "pd.merge(df_left,df_raight, how='outer', on='column1')\n",
        "pd.merge(df_left,df_raight, how='left', on='column1')\n",
        "pd.merge(df_left,df_raight, how='rigth', on='column1')\n",
        "# more information in:\n",
        "r'https://pandas.pydata.org/docs/reference/api/pandas.DataFrame.merge.html?highlight=merge#pandas.DataFrame.merge'"
      ],
      "execution_count": null,
      "outputs": []
    },
    {
      "cell_type": "markdown",
      "metadata": {
        "id": "G3VudgoBVJSN"
      },
      "source": [
        "![](http://www.datasciencemadesimple.com/wp-content/uploads/2017/09/join-or-merge-in-python-pandas-1.png)"
      ]
    },
    {
      "cell_type": "markdown",
      "metadata": {
        "id": "GtMrVi5k6g_X"
      },
      "source": [
        "## Group by"
      ]
    },
    {
      "cell_type": "markdown",
      "metadata": {
        "id": "xAhx2osq6qDU"
      },
      "source": [
        "sometimes is useful make sub-dataframe with some specific information, to do that we will use methot group by\n"
      ]
    },
    {
      "cell_type": "code",
      "metadata": {
        "id": "PxKBnvo_6hRa"
      },
      "source": [
        "df_name.groupby('column1')\n",
        "#displays a table where column 1 is a column of index and its values ​​change to indexes\n",
        "df_name.groupby('column1').media()\n",
        "df_name.groupby('column1').mean()\n",
        "df_name.groupby('column1')['column2']\n",
        "df_name.groupby('column1')['column2'].count()\n",
        "df_name.groupby('column1')['column2'].max()\n",
        "df_name.groupby('column1')['column2'].min()\n",
        "df_name.groupby(['column1','column2'])\n",
        "# group by multiple elements\n",
        "df_name.groupby(['column1','column2'])['column3'].mean()\n",
        "df_name.groupby(['column1','column2'])['column3'].mean().to_frame()\n",
        "# conver a grupby to a data frame\n",
        "df_name.groupby(['column1','column2'])['column3'].aggregate(['min',np.mean,max])\n",
        "dict_agg={'column3':[min,max]}, 'column4':[np.mean, my_fun]\n",
        "df_name.groupby(['column1','column2']).aggregate(dict_agg)\n",
        "df_name-groupby('column1')[['column2']].describe()\n",
        "df_name-groupby('column1')[['column2']].apply(my_fun)\n",
        "# . apply only one funcion and aggregate for many funcions\n",
        "# apply funcions \n",
        "# more information in:\n",
        "r'https://pandas.pydata.org/docs/reference/api/pandas.DataFrame.groupby.html?highlight=groupby#pandas.DataFrame.groupby'\n",
        "r'https://platzi.com/clases/1794-pandas/27898-aggregation-y-groupby/'"
      ],
      "execution_count": null,
      "outputs": []
    },
    {
      "cell_type": "code",
      "metadata": {
        "id": "RJU-v_2pIKqB"
      },
      "source": [
        "# apply filter\n",
        "def f_filter(x):\n",
        " return np.mean(x[column2])>4\n",
        "df_name.groupby('column1').filter(f_filter)\n",
        "#more information in:\n",
        "r'https://pandas.pydata.org/docs/reference/api/pandas.core.groupby.DataFrameGroupBy.filter.html?highlight=filter#pandas.core.groupby.DataFrameGroupBy.filter'\n",
        "r'https://pandas.pydata.org/docs/reference/api/pandas.DataFrame.filter.html?highlight=filter#pandas.DataFrame.filter'"
      ],
      "execution_count": null,
      "outputs": []
    },
    {
      "cell_type": "code",
      "metadata": {
        "id": "-y7ZHI7cd22h"
      },
      "source": [
        "# work with categorical columns\n",
        "df_name['ones']=1\n",
        "df_name.groupby(['column1','column2'])[['ones']].sum\n",
        "# we usa a axualiar column ones to dsplays information about two categorical columns\n",
        "pd.cut(df_name['column1'],bins=3)\n",
        "# create 3 bins and put all column1's data in it\n",
        "pd.cut(df_name['column1'],3, labels=[\"bad\", \"medium\", \"good\"])\n",
        "# create 3 bins with name of the labels\n",
        "pd.cut(df_name['column1'],bins=[3,18,35,60])\n",
        "bins = pd.IntervalIndex.from_tuples([(0, 1), (2, 3), (4, 5)])\n",
        "pd.cut(df_name['column1'], bins)\n",
        "# applay your oun bins\n",
        "#more information in:\n",
        "r'https://pandas.pydata.org/docs/reference/api/pandas.cut.html?highlight=cut#pandas.cut'\n",
        "r'https://platzi.com/clases/1794-pandas/27897-group-by-extraer-valor-con-variables-categoricas/'"
      ],
      "execution_count": null,
      "outputs": []
    },
    {
      "cell_type": "code",
      "metadata": {
        "id": "YqHK9YG9a15i"
      },
      "source": [
        "df_name = df_name.groupby(['column']).count()\r\n",
        "df_name = df_name.sort_values(by=['column'], ascending=False)"
      ],
      "execution_count": null,
      "outputs": []
    },
    {
      "cell_type": "markdown",
      "metadata": {
        "id": "GgdPzp_7kpg5"
      },
      "source": [
        "Pivot Table"
      ]
    },
    {
      "cell_type": "code",
      "metadata": {
        "id": "zYxr1r2ik8Gz"
      },
      "source": [
        "df_name.pivot(values='column3', index='column2',columns='column1')\n",
        "# pivot could work with no numeric data \n",
        "df_name.pivot_table(values='column3', index='column2',columns='column1')\n",
        "# display a new data frame with parametres that we input \n",
        "# original data frame shuld  not have idex or idex =  reset_index\n",
        "df_name.pivot_table(values='column3', index='column2',columns='column1', aggfunc=np.media)\n",
        "# when we pivot, hapen ones funcions as default mean\n",
        "#more information in:\n",
        "r'https://pandas.pydata.org/docs/reference/api/pandas.DataFrame.pivot.html?highlight=pivot%20table'\n",
        "r'https://pandas.pydata.org/docs/reference/api/pandas.DataFrame.pivot_table.html#pandas.DataFrame.pivot_table'"
      ],
      "execution_count": null,
      "outputs": []
    },
    {
      "cell_type": "markdown",
      "metadata": {
        "id": "EuXFoe1Z9dif"
      },
      "source": [
        "![](https://pandas-docs.github.io/pandas-docs-travis/_images/reshaping_pivot.png)"
      ]
    },
    {
      "cell_type": "code",
      "metadata": {
        "id": "KIEwH7ai9_JA"
      },
      "source": [
        "df_name.stak()\n",
        "# stak is a funcion like pivot bot you do not stablish parametres \n",
        "# columns become sub- indexes\n",
        "df_name.unstack()\n",
        "# go back to original dataset\n",
        "# un stack is useful with pivot and pivot_table\n",
        "df_name.unstack().reset_index()\n",
        "#more information in:\n",
        "r'https://pandas.pydata.org/docs/reference/api/pandas.DataFrame.stack.html#pandas.DataFrame.stack'\n",
        "r'https://pandas.pydata.org/docs/reference/api/pandas.DataFrame.unstack.html?highlight=unstack#pandas.DataFrame.unstack'\n"
      ],
      "execution_count": null,
      "outputs": []
    },
    {
      "cell_type": "markdown",
      "metadata": {
        "id": "dLIy1msJVlGP"
      },
      "source": [
        "## work with null data "
      ]
    },
    {
      "cell_type": "code",
      "metadata": {
        "id": "U430D__5VrCj"
      },
      "source": [
        "df_name.isnull()\n",
        "df_name.isna()\n",
        "df_name.isnull().sum()\n",
        "# displays all elemnents null by column\n",
        "df_name.notnull().sum(axis=1)\n",
        "# displays all elemnents null by idex\n",
        "df_name.size-df.isnull().sum().sum()\n",
        "#all elemnts null in the data frame\n",
        "df_name[df_name['a'].notnull()]\n",
        "#filter by null elemnts\n"
      ],
      "execution_count": null,
      "outputs": []
    },
    {
      "cell_type": "markdown",
      "metadata": {
        "id": "IN2m46w40u6n"
      },
      "source": [
        "Drop null elements"
      ]
    },
    {
      "cell_type": "code",
      "metadata": {
        "id": "qRCgXIRT0zSl"
      },
      "source": [
        "df.dropna()\n",
        "df[['a']].dropna()\n",
        "df.fillna(0)\n",
        "# replace all null elements with 0\n",
        "df_name.fillna(method=\"ffill\")\n",
        "#replace all null elements with following value\n",
        "df_name.fillna(method=\"bfill\")\n",
        "#replace all null elements with previus value\n",
        "fill = pd.Series([100, 101, 102])\n",
        "df_name['column1'] = df_name['column1'].fillna(fill)\n",
        "#replace all null elements with serie(fill)\n",
        "df_name.fillna(df.median())\n",
        "#replace all null elements with media\n",
        "df_New_name = pd.concat([df_name[['column1']], df_name[['column1']].interpolate()],axis=1)\n",
        "df_New_name.columns = ['d_antes','d_interpolado']\n",
        "#replace all null elements with a interpolation\n",
        "#more infroamtion \n",
        "r'https://pandas.pydata.org/docs/search.html?q=null'"
      ],
      "execution_count": null,
      "outputs": []
    },
    {
      "cell_type": "code",
      "metadata": {
        "id": "cgcGUbHkn9gS"
      },
      "source": [
        "df_name.notnull().apply(pd.Series.value_counts)\n",
        "(df_name !=0).apply(pd.Series.value_counts)"
      ],
      "execution_count": null,
      "outputs": []
    },
    {
      "cell_type": "code",
      "metadata": {
        "id": "cJ1XpXU4szw-"
      },
      "source": [
        "filtro = ((df_name !=0) & (df_name.notnull()))\n",
        "filtro.all(axis=1).values_counts()"
      ],
      "execution_count": null,
      "outputs": []
    },
    {
      "cell_type": "code",
      "metadata": {
        "id": "a9AEeaN9tzso"
      },
      "source": [
        "mask = filtro['column1']\n",
        "df_name = df_name[mask]"
      ],
      "execution_count": null,
      "outputs": []
    },
    {
      "cell_type": "code",
      "metadata": {
        "id": "0bNFvuLavsmt"
      },
      "source": [
        "# if we have some null data and we don want drop it, we could replace this thata with a mean \n",
        "from sklearn.impute import SimpleImputer\n",
        "imputer = SimpleImputer(missing_values=np.nan, strategy='mean')\n",
        "values = imputer.fit_transform(df_name)\n",
        "df_name.values # original values\n",
        "values # new values\n",
        "# update the original dataframe with new values\n",
        "x=pd.DataFrame(values)\n",
        "x.columns= df_name.columns\n",
        "s.inde = df_name.index\n",
        "# x = new data frame "
      ],
      "execution_count": null,
      "outputs": []
    },
    {
      "cell_type": "markdown",
      "metadata": {
        "id": "kLFdSzELJIhr"
      },
      "source": [
        "## Work with duplicate data"
      ]
    },
    {
      "cell_type": "markdown",
      "metadata": {
        "id": "UBg_x9URJksI"
      },
      "source": [
        "Some time you have a lot of useless data, this data will be somo duplicate data.\n",
        "Is to important do not work with this data because will do wrong analysis"
      ]
    },
    {
      "cell_type": "code",
      "metadata": {
        "id": "N2wi6AWcLbIp"
      },
      "source": [
        "df.duplicated()\n",
        "#displays all duplicate values\n",
        "df.duplicated(keep='first')\n",
        "# displays as a true only first councidence\n",
        "df.duplicated(keep='last')\n",
        "# displays as a true only last councidence\n",
        "df[~ df.duplicated()]\n",
        "# filter and displays all elementes that not are duplicates\n",
        "df.duplicated(keep=False)\n",
        "df[df.duplicated(keep=False)]\n",
        "#displays duplicate elements\n",
        "df.drop_duplicates()\n",
        "df.drop_duplicates(['column1'],keep='last')\n",
        "#more information in:\n",
        "r'https://pandas.pydata.org/docs/reference/api/pandas.DataFrame.duplicated.html?highlight=duplicate'\n"
      ],
      "execution_count": null,
      "outputs": []
    },
    {
      "cell_type": "markdown",
      "metadata": {
        "id": "Mp5jjMOIlFZh"
      },
      "source": [
        "## Time series"
      ]
    },
    {
      "cell_type": "markdown",
      "metadata": {
        "id": "HPTAu4bOClls"
      },
      "source": [
        "if we have two data frames with index type time, we coul do somo specific operatios"
      ]
    },
    {
      "cell_type": "code",
      "metadata": {
        "id": "k2SXTVL1Cz3W"
      },
      "source": [
        "df1-df2\n",
        "# display the diferneces betwent values of df1 and df2 dipendiong of the index \n",
        "# if no not have the same index displays null\n",
        "df_name.diff()\n",
        "#displays the diverences betwen index=time\n",
        "df_name.diff().mean()\n",
        "#by default the first element is null because do not have other element to compare\n",
        "df_name.fillna({'column1':23,'column2':23})\n",
        "# for that reason we should introduce its values with funcion fillna\n",
        "df_name.cumsum()\n",
        "#return cumulative sum over a DataFrame\n",
        "#more information in:\n",
        "r'https://pandas.pydata.org/docs/reference/api/pandas.DataFrame.cumsum.html?highlight=cumsum#pandas.DataFrame.cumsum'\n"
      ],
      "execution_count": null,
      "outputs": []
    },
    {
      "cell_type": "code",
      "metadata": {
        "id": "nLSyrSRgFMwi"
      },
      "source": [
        "df_name.resample('7D').mean\n",
        "df_name.resample('W-sun').sum(min_count=1)\n",
        "df_name.resample('W-sun').sum()\n",
        "df_name.resample('M').count()\n",
        "# displays information in timeslots\n",
        "#more information in:\n",
        "r'https://pandas.pydata.org/docs/reference/api/pandas.DataFrame.resample.html?highlight=resample#pandas.DataFrame.resample'"
      ],
      "execution_count": null,
      "outputs": []
    },
    {
      "cell_type": "code",
      "metadata": {
        "id": "8tso-lXeG6kI"
      },
      "source": [
        "df_name.groupby(pd.Grouper(key='timecolumn', freq='M'))[['column1']].mean()\n",
        "# Grouper is a very usefull funcion that work it a column wuere values are type time\n",
        "df_name.groupby(pd.Grouper(key='timecolumn', freq='1D'))[['column1']].mean()\n",
        "#more information in:\n",
        "r'https://pandas.pydata.org/docs/reference/api/pandas.Grouper.html?highlight=grouper#pandas.Grouper'"
      ],
      "execution_count": null,
      "outputs": []
    },
    {
      "cell_type": "code",
      "metadata": {
        "id": "R14i2RVMH7SA"
      },
      "source": [
        "df_name['timecolumn'].rolling('2s')\n",
        "# rolling create a windows in columns with values type time \n",
        "# space betwen windows are two seconds in this case\n",
        "# rolling is veri usefull to apply funcions and plot\n",
        "df_name['timecolumn'].rolling(window=14).apply(lambda x: np.std(x)).plot()\n",
        "#more information in:\n",
        "r'https://pandas.pydata.org/docs/reference/api/pandas.DataFrame.rolling.html?highlight=rolling#pandas.DataFrame.rolling'\n",
        "r'https://platzi.com/clases/1794-pandas/27894-series-de-tiempo-variables-nulas/'"
      ],
      "execution_count": null,
      "outputs": []
    },
    {
      "cell_type": "markdown",
      "metadata": {
        "id": "AFKVjbsQbhX9"
      },
      "source": [
        "## Working con Regex"
      ]
    },
    {
      "cell_type": "code",
      "metadata": {
        "id": "FzqeD15bbpyK"
      },
      "source": [
        "df_name['column'] = df_name['city'].replace(to_replace=r'([a-zA-Z]*\\s)*London', value='London', regex=True)\r\n",
        "# Replace columns values with regex to a spasific value "
      ],
      "execution_count": null,
      "outputs": []
    },
    {
      "cell_type": "code",
      "metadata": {
        "id": "bWkjoKIIdPNb"
      },
      "source": [
        "s = df_name['column1']\r\n",
        "df = s.str.extract(r'£([0-9]+,[0-9]+)\\s-\\s£([0-9]+,[0-9]+)\\s\\w+\\sannum')\r\n",
        "#Create  a new data frame with a sextract over soma values in a array"
      ],
      "execution_count": null,
      "outputs": []
    },
    {
      "cell_type": "code",
      "metadata": {
        "id": "laXLhNMwe1oV"
      },
      "source": [
        "list_with_range_sannum['column1'] = list_with_range_sannum['column1'].str.replace(',', '')\r\n",
        "#drop null spaces in a string over a column"
      ],
      "execution_count": null,
      "outputs": []
    },
    {
      "cell_type": "markdown",
      "metadata": {
        "id": "KjiDNmrbJhBt"
      },
      "source": [
        "## Plot"
      ]
    },
    {
      "cell_type": "markdown",
      "metadata": {
        "id": "5gxB8MUOJmIA"
      },
      "source": [
        "Make plots of Series or DataFrame"
      ]
    },
    {
      "cell_type": "code",
      "metadata": {
        "id": "HXdHTRcIJycB"
      },
      "source": [
        "df_name.plot(figsize=(10,7), title='title')\n",
        "df_name.plot(kind='bar',figsize=(10,7), title='title')\n",
        "df_name.plot(kind='bar',figsize=(10,7), title='title', stacked = True)\n",
        "df_name[['column1','column2','column3']].plot(figsize=(10,7),kind='pie', subplots=True)\n",
        "# plot index versus columns\n",
        "#more information in:\n",
        "r'https://pandas.pydata.org/docs/reference/api/pandas.DataFrame.plot.html?highlight=plot#pandas.DataFrame.plot'\n",
        "r'https://platzi.com/clases/1794-pandas/27893-visualizacion-y-graficacion-de-datos/'"
      ],
      "execution_count": null,
      "outputs": []
    },
    {
      "cell_type": "code",
      "metadata": {
        "id": "B30jtSSjOv6e"
      },
      "source": [
        "df_name['column1'].hist(figsize = (10,7), bins =10)\n",
        "# displays a histogram\n",
        "#more information in:\n",
        "r'https://pandas.pydata.org/docs/reference/api/pandas.DataFrame.hist.html?highlight=hist#pandas.DataFrame.hist'"
      ],
      "execution_count": null,
      "outputs": []
    },
    {
      "cell_type": "code",
      "metadata": {
        "id": "8jju1xFNLON1"
      },
      "source": [
        "import matplotlib.pyplot as plt\n",
        "df_name.plot(figsize=(10,7), title='title')\n",
        "plt.xlabel('index-time')\n",
        "plt.ylabel('columns')\n",
        "plt.show()"
      ],
      "execution_count": null,
      "outputs": []
    },
    {
      "cell_type": "code",
      "metadata": {
        "id": "Ph703nzmL5Ns"
      },
      "source": [
        "df_name.plot(figsize=(10,7), title='title', \n",
        "             legend = False, \n",
        "             style = ['r-','g--','b:*'])\n",
        "ax.legend(['1','dos','3'])\n",
        "plt.xlabel('index-time')\n",
        "plt.ylabel('columns')\n",
        "plt.show()"
      ],
      "execution_count": null,
      "outputs": []
    },
    {
      "cell_type": "markdown",
      "metadata": {
        "id": "9lZhCFXCcBDI"
      },
      "source": [
        "Some Examples"
      ]
    },
    {
      "cell_type": "code",
      "metadata": {
        "id": "tgT2p1ficQAz"
      },
      "source": [
        "normdata = colors.Normalize(min(X), max(X))\r\n",
        "colormap = cm.get_cmap(\"Blues\")\r\n",
        "colores = colormap(normdata(X))\r\n",
        "\r\n",
        "fig1, ax1 = plt.subplots(figsize=(7,7))\r\n",
        "ax1.pie(X, labels=labels, autopct= \"%0.1f %%\", colors=colores)\r\n",
        "ax1.set_title(\"TITLE\")\r\n",
        "plt.show()"
      ],
      "execution_count": null,
      "outputs": []
    },
    {
      "cell_type": "markdown",
      "metadata": {
        "id": "xhjGkCvsg-6o"
      },
      "source": [
        "![image.png](data:image/png;base64,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)"
      ]
    },
    {
      "cell_type": "code",
      "metadata": {
        "id": "v2TGtcEUcyaH"
      },
      "source": [
        "fig, ax = plt.subplots(figsize=(15,9))\r\n",
        "rects = ax.plot(labels, x, '-o', ms=20, lw=2, alpha=0.7, mfc='orange')\r\n",
        "ax.annotate('Text', xy=(y,x), xytext = (y,x),\r\n",
        "             arrowprops=dict(facecolor='black', shrink=0.05),)\r\n",
        "ax.set_xlabel('X_label')\r\n",
        "ax.set_ylabel('y_label')\r\n",
        "ax.set_title(\"title\")\r\n",
        "plt.show()"
      ],
      "execution_count": null,
      "outputs": []
    },
    {
      "cell_type": "markdown",
      "metadata": {
        "id": "wwaujfssg5d5"
      },
      "source": [
        "![image.png](data:image/png;base64,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)"
      ]
    },
    {
      "cell_type": "code",
      "metadata": {
        "id": "wNre_Tz7g8uM"
      },
      "source": [
        ""
      ],
      "execution_count": null,
      "outputs": []
    },
    {
      "cell_type": "markdown",
      "metadata": {
        "id": "Mde1truHh5OX"
      },
      "source": [
        "# Features selection"
      ]
    },
    {
      "cell_type": "code",
      "metadata": {
        "id": "Js2SPjD9iBk9"
      },
      "source": [
        ""
      ],
      "execution_count": null,
      "outputs": []
    },
    {
      "cell_type": "markdown",
      "metadata": {
        "id": "PyCNRfRviMuq"
      },
      "source": [
        "# Model selection"
      ]
    },
    {
      "cell_type": "code",
      "metadata": {
        "id": "1R_6O8bkiUIY"
      },
      "source": [
        ""
      ],
      "execution_count": null,
      "outputs": []
    },
    {
      "cell_type": "markdown",
      "metadata": {
        "id": "nr9xaGF9iWKE"
      },
      "source": [
        "# Model optimization "
      ]
    },
    {
      "cell_type": "code",
      "metadata": {
        "id": "i8EaYITIiaOv"
      },
      "source": [
        ""
      ],
      "execution_count": null,
      "outputs": []
    }
  ]
}